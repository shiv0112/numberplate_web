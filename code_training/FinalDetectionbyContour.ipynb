{
 "cells": [
  {
   "cell_type": "code",
   "execution_count": 6,
   "metadata": {},
   "outputs": [],
   "source": [
    "import cv2\n",
    "import imutils\n",
    "import numpy as np\n",
    "import pytesseract\n",
    "import requests\n",
    "import json\n",
    "import xmltodict\n",
    "import re"
   ]
  },
  {
   "cell_type": "code",
   "execution_count": 32,
   "metadata": {},
   "outputs": [
    {
     "name": "stdout",
     "output_type": "stream",
     "text": [
      "NO car detected\n",
      "NO car detected\n",
      "NO car detected\n",
      "NO car detected\n",
      "NO car detected\n",
      "NO car detected\n",
      "NO car detected\n",
      "NO car detected\n",
      "NO car detected\n",
      "NO car detected\n",
      "NO car detected\n",
      "NO car detected\n",
      "NO car detected\n",
      "NO car detected\n",
      "NO car detected\n",
      "NO car detected\n",
      "NO car detected\n",
      "NO car detected\n",
      "NO car detected\n",
      "NO car detected\n",
      "NO car detected\n",
      "NO car detected\n",
      "NO car detected\n",
      "NO car detected\n",
      "NO car detected\n",
      "NO car detected\n",
      "NO car detected\n",
      "NO car detected\n",
      "NO car detected\n",
      "NO car detected\n",
      "NO car detected\n",
      "NO car detected\n",
      "NO car detected\n",
      "NO car detected\n",
      "NO car detected\n",
      "NO car detected\n",
      "NO car detected\n",
      "NO car detected\n",
      "NO car detected\n",
      "NO car detected\n",
      "NO car detected\n",
      "NO car detected\n",
      "NO car detected\n",
      "NO car detected\n",
      "Car Detected\n"
     ]
    }
   ],
   "source": [
    "vimal_model = cv2.face.LBPHFaceRecognizer_create()\n",
    "vimal_model.read('lbph_car_detection.yml')\n",
    "cap = cv2.VideoCapture(\"../cars1.mp4\")\n",
    "fcount=0\n",
    "while True:\n",
    "    ret, frames = cap.read()\n",
    "    gray = cv2.cvtColor(frames, cv2.COLOR_BGR2GRAY)\n",
    "    results = vimal_model.predict(gray)\n",
    "    if results[1] <500:\n",
    "        confidence = int( 100 * (1 - (results[1])/400) )\n",
    "    if confidence>= 85:\n",
    "        fcount =fcount+1\n",
    "    if fcount == 45:\n",
    "        cv2.imwrite(\"photo.jpeg\",frames)\n",
    "        print(\"Car Detected\")\n",
    "        break\n",
    "    else:\n",
    "        print(\"NO car detected\")\n",
    "cv2.imshow('photo.jpeg',frames)\n",
    "cv2.waitKey()=='13'\n",
    "cv2.destroyAllWindows()\n",
    "cap.release()"
   ]
  },
  {
   "cell_type": "code",
   "execution_count": 33,
   "metadata": {
    "scrolled": true
   },
   "outputs": [
    {
     "name": "stdout",
     "output_type": "stream",
     "text": [
      "License Plate Recognition\n",
      "\n",
      "Detected license plate Number is: =UP 15BB1516\n",
      "\f",
      "\n",
      "UP15BB1516\n"
     ]
    }
   ],
   "source": [
    "pytesseract.pytesseract.tesseract_cmd = r'D:\\pytesseract\\tesseract.exe'\n",
    "img = cv2.imread('photo.jpeg',cv2.IMREAD_COLOR)\n",
    "img = cv2.resize(img, (500,600) )\n",
    "gray = cv2.cvtColor(img, cv2.COLOR_BGR2GRAY) \n",
    "gray = cv2.bilateralFilter(gray, 13, 15, 15) \n",
    "edged = cv2.Canny(gray, 30, 200) \n",
    "contours = cv2.findContours(edged.copy(), cv2.RETR_TREE, cv2.CHAIN_APPROX_SIMPLE)\n",
    "contours = imutils.grab_contours(contours)\n",
    "contours = sorted(contours, key = cv2.contourArea, reverse = True)[:10]\n",
    "screenCnt = None\n",
    "for c in contours:\n",
    "    peri = cv2.arcLength(c, True)\n",
    "    approx = cv2.approxPolyDP(c, 0.018 * peri, True)\n",
    "    if len(approx) == 4:\n",
    "        screenCnt = approx\n",
    "        break\n",
    "\n",
    "if screenCnt is None:\n",
    "    detected = 0\n",
    "    print (\"No contour detected\")\n",
    "else:\n",
    "    detected = 1\n",
    "    \n",
    "if detected == 1:\n",
    "    cv2.drawContours(img, [screenCnt], -1, (0, 0, 255), 3)\n",
    "\n",
    "mask = np.zeros(gray.shape,np.uint8)\n",
    "new_image = cv2.drawContours(mask,[screenCnt],0,255,-1,)\n",
    "new_image = cv2.bitwise_and(img,img,mask=mask)\n",
    "\n",
    "(x, y) = np.where(mask == 255)\n",
    "(topx, topy) = (np.min(x), np.min(y))\n",
    "(bottomx, bottomy) = (np.max(x), np.max(y))\n",
    "Cropped = gray[topx:bottomx+1, topy:bottomy+1]\n",
    "\n",
    "text = pytesseract.image_to_string(Cropped, config='--psm 11')\n",
    "print(\"License Plate Recognition\\n\")\n",
    "print(\"Detected license plate Number is:\",text)\n",
    "img = cv2.resize(img,(500,800))\n",
    "Cropped = cv2.resize(Cropped,(400,200))\n",
    "cv2.imshow('car',img)\n",
    "cv2.waitKey()=='13'\n",
    "cv2.destroyAllWindows()\n",
    "cv2.imshow('Cropped',Cropped)\n",
    "cv2.waitKey()=='13'\n",
    "cv2.destroyAllWindows()\n",
    "text = re.sub('[^A-Za-z0-9]+', '', text)\n",
    "final_text = text[-10:]\n",
    "print(final_text)"
   ]
  },
  {
   "cell_type": "code",
   "execution_count": 34,
   "metadata": {
    "scrolled": false
   },
   "outputs": [
    {
     "name": "stdout",
     "output_type": "stream",
     "text": [
      "Your car's details are:\n",
      "Owner name: ABHINAY KUMAR\n",
      "Car Company: HYUNDAI\n",
      "Car Model: I20 SPORTZ 1.4 DSL BSIV\n",
      "Fuel Type: DIESEL\n",
      "Registration Year: 2012\n",
      "Insurance: 2021-10-16\n",
      "Vehicle ID: MALBB51RLCM476135J\n",
      "Engine No.: D4FCCU191935\n",
      "Location RTO: RTO, MEERUT\n"
     ]
    }
   ],
   "source": [
    "vehicle_reg_no = final_text.strip() #NumberPlate deteted\n",
    "username = \"meem9\" #API_user name\n",
    "url = \"http://www.regcheck.org.uk/api/reg.asmx/CheckIndia?RegistrationNumber=\" + vehicle_reg_no + \"&username=\"+username\n",
    "url=url.replace(\" \",\"%20\")\n",
    "r = requests.get(url)\n",
    "n = xmltodict.parse(r.content)\n",
    "k = json.dumps(n)\n",
    "df = json.loads(k)\n",
    "l=df[\"Vehicle\"][\"vehicleJson\"]\n",
    "p=json.loads(l)\n",
    "s=\"Your car's details are:\\n\"+\"Owner name: \"+str(p['Owner'])+\"\\n\"+\"Car Company: \"+str(p['CarMake']['CurrentTextValue'])+\"\\n\"+\"Car Model: \"+str(p['CarModel']['CurrentTextValue'])+\"\\n\"+\"Fuel Type: \"+str(p['FuelType']['CurrentTextValue'])+\"\\n\"+\"Registration Year: \"+str(p['RegistrationYear'])+\"\\n\"+\"Insurance: \"+str(p['Insurance'])+\"\\n\"+\"Vehicle ID: \"+str(p['VechileIdentificationNumber'])+\"\\n\"+\"Engine No.: \"+str(p['EngineNumber'])+\"\\n\"+\"Location RTO: \"+str(p['Location'])\n",
    "print(s)"
   ]
  },
  {
   "cell_type": "code",
   "execution_count": null,
   "metadata": {},
   "outputs": [],
   "source": []
  }
 ],
 "metadata": {
  "kernelspec": {
   "display_name": "Python 3",
   "language": "python",
   "name": "python3"
  },
  "language_info": {
   "codemirror_mode": {
    "name": "ipython",
    "version": 3
   },
   "file_extension": ".py",
   "mimetype": "text/x-python",
   "name": "python",
   "nbconvert_exporter": "python",
   "pygments_lexer": "ipython3",
   "version": "3.8.5"
  }
 },
 "nbformat": 4,
 "nbformat_minor": 4
}
